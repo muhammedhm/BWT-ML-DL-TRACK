{
 "cells": [
  {
   "cell_type": "markdown",
   "id": "1ee6f19c",
   "metadata": {},
   "source": [
    "## Q1"
   ]
  },
  {
   "cell_type": "code",
   "execution_count": 3,
   "id": "a1cc7859",
   "metadata": {},
   "outputs": [
    {
     "name": "stdout",
     "output_type": "stream",
     "text": [
      "Enter name,age, email and favorite number :muhammed 22 mhd@gmail.com 4\n",
      "['muhammed', '22', 'mhd@gmail.com', '4']\n"
     ]
    }
   ],
   "source": [
    "prompt = input('Enter name,age, email and favorite number :').split(' ')\n",
    "print(prompt)"
   ]
  },
  {
   "cell_type": "code",
   "execution_count": 6,
   "id": "e32f8f5a",
   "metadata": {},
   "outputs": [
    {
     "name": "stdout",
     "output_type": "stream",
     "text": [
      "{'name': 'muhammed', 'age': '22', 'email': 'mhd@gmail.com', 'favorite number': '4'}\n"
     ]
    }
   ],
   "source": [
    "dic = {'name': '','age':'','email':'','favorite number':''}\n",
    "i=0\n",
    "for key in dic:\n",
    "    dic[key] = prompt[i]\n",
    "    i+=1\n",
    "print(dic)"
   ]
  },
  {
   "cell_type": "code",
   "execution_count": 7,
   "id": "362ae170",
   "metadata": {},
   "outputs": [
    {
     "name": "stdout",
     "output_type": "stream",
     "text": [
      "validate\n"
     ]
    }
   ],
   "source": [
    "if '@'in dic['email'] and '.' in dic['email']:\n",
    "    print('validate')"
   ]
  },
  {
   "cell_type": "code",
   "execution_count": 9,
   "id": "f5f82c2f",
   "metadata": {},
   "outputs": [
    {
     "name": "stdout",
     "output_type": "stream",
     "text": [
      "Hello muhammed, you are 22 years old, your email is mhd@gmail.com, and your favorite number is 4.\n"
     ]
    }
   ],
   "source": [
    "print(f\"Hello {dic['name']}, you are {dic['age']} years old, your email is {dic['email']}, and your favorite number is {dic['favorite number']}.\")"
   ]
  },
  {
   "cell_type": "markdown",
   "id": "383c3a1e",
   "metadata": {},
   "source": [
    "## Q2"
   ]
  },
  {
   "cell_type": "code",
   "execution_count": 12,
   "id": "b5ff9fc0",
   "metadata": {},
   "outputs": [
    {
     "name": "stdout",
     "output_type": "stream",
     "text": [
      "Enter a number:20\n",
      "Even\n"
     ]
    }
   ],
   "source": [
    "def Is_even(num):\n",
    "    if num%2 == 0:\n",
    "        return True\n",
    "    else:\n",
    "        return False\n",
    "\n",
    "num = int(input(\"Enter a number:\"))\n",
    "if Is_even(num) is True:\n",
    "    print('Even')\n",
    "else:\n",
    "    print(\"Odd\")"
   ]
  },
  {
   "cell_type": "markdown",
   "id": "5e909b85",
   "metadata": {},
   "source": [
    "## Q3"
   ]
  },
  {
   "cell_type": "code",
   "execution_count": null,
   "id": "2af14d43",
   "metadata": {},
   "outputs": [],
   "source": [
    "def convert_temperature(temp, scale):\n",
    "    return temp*scale\n",
    "temp = int(input(\"Enter celsius temperature:\"))\n",
    "scale = int(input(\"Enter celsius to farenheit scale:\"))\n",
    "print(convert_temperature(temp, scale) + 32)"
   ]
  },
  {
   "cell_type": "markdown",
   "id": "2a4e7f93",
   "metadata": {},
   "source": [
    "## Q4"
   ]
  },
  {
   "cell_type": "code",
   "execution_count": 19,
   "id": "aac1efa2",
   "metadata": {},
   "outputs": [
    {
     "name": "stdout",
     "output_type": "stream",
     "text": [
      "Enter numbers:1 2 3 4 5\n",
      "maximum,minimum ('5', '1')\n"
     ]
    }
   ],
   "source": [
    "def find_max_min(numbers_list):\n",
    "    maxi =numbers_list[0]\n",
    "    mini = numbers_list[0] \n",
    "    for i in range(len(numbers_list)):\n",
    "        if maxi < numbers_list[i]:\n",
    "            maxi = numbers_list[i]\n",
    "        if mini > numbers_list[i]:\n",
    "            mini = numbers_list[i]\n",
    "    return maxi,mini\n",
    "        \n",
    "nums = input(\"Enter numbers:\").split(' ')\n",
    "print(\"maximum,minimum\",find_max_min(nums))\n"
   ]
  },
  {
   "cell_type": "markdown",
   "id": "16007d77",
   "metadata": {},
   "source": [
    "## Q5"
   ]
  },
  {
   "cell_type": "code",
   "execution_count": 25,
   "id": "f839e9c0",
   "metadata": {},
   "outputs": [
    {
     "name": "stdout",
     "output_type": "stream",
     "text": [
      "Enter name,age and grade:muhammed 22 undergrad\n",
      "Enter name,age and grade:zaid 22 undergrad\n",
      "Enter name,age and grade:ishaq 22 undergrad\n",
      "[('muhammed', '22', 'undergrad'), ('zaid', '22', 'undergrad'), ('ishaq', '22', 'undergrad')]\n",
      "{'muhammed': ('22', 'undergrad'), 'zaid': ('22', 'undergrad'), 'ishaq': ('22', 'undergrad')}\n"
     ]
    }
   ],
   "source": [
    "students = []\n",
    "for i in range(3):\n",
    "    details = input(\"Enter name,age and grade:\").split(' ')\n",
    "    students.append(tuple(details))\n",
    "print(students)\n",
    "\n",
    "stds = {}\n",
    "for i in range(len(students)):\n",
    "    stds[students[i][0]] = (students[i][1],students[i][2])\n",
    "print(stds)"
   ]
  },
  {
   "cell_type": "markdown",
   "id": "cde29895",
   "metadata": {},
   "source": [
    "## Q6"
   ]
  },
  {
   "cell_type": "code",
   "execution_count": 26,
   "id": "76fb193b",
   "metadata": {},
   "outputs": [
    {
     "name": "stdout",
     "output_type": "stream",
     "text": [
      "Initial inventory: {'apples': 10, 'bananas': 5, 'oranges': 8, 'grapes': 15, 'pears': 7}\n",
      "Enter the item name: apples\n",
      "Enter the quantity to add (positive) or remove (negative): 10\n",
      "Updated inventory: {'apples': 20, 'bananas': 5, 'oranges': 8, 'grapes': 15, 'pears': 7}\n",
      "Enter the item name: bananas\n",
      "Enter the quantity to add (positive) or remove (negative): 10\n",
      "Updated inventory: {'apples': 20, 'bananas': 15, 'oranges': 8, 'grapes': 15, 'pears': 7}\n",
      "Enter the item name: pears\n",
      "Enter the quantity to add (positive) or remove (negative): 30\n",
      "Updated inventory: {'apples': 20, 'bananas': 15, 'oranges': 8, 'grapes': 15, 'pears': 37}\n",
      "Final updated inventory: {'apples': 20, 'bananas': 15, 'oranges': 8, 'grapes': 15, 'pears': 37}\n"
     ]
    }
   ],
   "source": [
    "def update_inventory(inventory_dict, item, quantity):\n",
    "    if item in inventory_dict:\n",
    "        inventory_dict[item] = max(inventory_dict[item] + quantity, 0)\n",
    "    else:\n",
    "        inventory_dict[item] = max(quantity, 0)\n",
    "    \n",
    "    return inventory_dict\n",
    "\n",
    "# Initialize an inventory dictionary with at least 5 items\n",
    "inventory = {\n",
    "    \"apples\": 10,\n",
    "    \"bananas\": 5,\n",
    "    \"oranges\": 8,\n",
    "    \"grapes\": 15,\n",
    "    \"pears\": 7\n",
    "}\n",
    "\n",
    "# Function to prompt user to update the inventory\n",
    "def update_inventory_prompt(inventory_dict):\n",
    "    for _ in range(3):\n",
    "        item = input(\"Enter the item name: \")\n",
    "        quantity = int(input(\"Enter the quantity to add (positive) or remove (negative): \"))\n",
    "        inventory_dict = update_inventory(inventory_dict, item, quantity)\n",
    "        print(f\"Updated inventory: {inventory_dict}\")\n",
    "\n",
    "    return inventory_dict\n",
    "\n",
    "# Display the initial inventory\n",
    "print(\"Initial inventory:\", inventory)\n",
    "\n",
    "# Update the inventory based on user input\n",
    "updated_inventory = update_inventory_prompt(inventory)\n",
    "\n",
    "# Display the updated inventory\n",
    "print(\"Final updated inventory:\", updated_inventory)\n"
   ]
  },
  {
   "cell_type": "code",
   "execution_count": null,
   "id": "39208542",
   "metadata": {},
   "outputs": [],
   "source": []
  }
 ],
 "metadata": {
  "kernelspec": {
   "display_name": "Python 3 (ipykernel)",
   "language": "python",
   "name": "python3"
  },
  "language_info": {
   "codemirror_mode": {
    "name": "ipython",
    "version": 3
   },
   "file_extension": ".py",
   "mimetype": "text/x-python",
   "name": "python",
   "nbconvert_exporter": "python",
   "pygments_lexer": "ipython3",
   "version": "3.10.9"
  }
 },
 "nbformat": 4,
 "nbformat_minor": 5
}
